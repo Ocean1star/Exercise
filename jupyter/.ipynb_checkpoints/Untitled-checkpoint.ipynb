{
 "cells": [
  {
   "cell_type": "code",
   "execution_count": 16,
   "metadata": {},
   "outputs": [
    {
     "ename": "SyntaxError",
     "evalue": "invalid syntax (<ipython-input-16-275a8164aaac>, line 1)",
     "output_type": "error",
     "traceback": [
      "\u001b[1;36m  File \u001b[1;32m\"<ipython-input-16-275a8164aaac>\"\u001b[1;36m, line \u001b[1;32m1\u001b[0m\n\u001b[1;33m    import stock data from Stocker module\u001b[0m\n\u001b[1;37m                    ^\u001b[0m\n\u001b[1;31mSyntaxError\u001b[0m\u001b[1;31m:\u001b[0m invalid syntax\n"
     ]
    }
   ],
   "source": [
    "import stock data from Stocker module\n",
    "aapl_stock = Stocker(\"AAPL\")\n",
    "aapl_stock.plot_stock() #Draw Apple's Inc stock price plot"
   ]
  },
  {
   "cell_type": "code",
   "execution_count": null,
   "metadata": {},
   "outputs": [],
   "source": [
    "import random\n",
    "import math\n",
    "from sklearn.model_selection import train_test_split"
   ]
  },
  {
   "cell_type": "code",
   "execution_count": null,
   "metadata": {},
   "outputs": [],
   "source": [
    "import sklearn as sk"
   ]
  },
  {
   "cell_type": "code",
   "execution_count": null,
   "metadata": {},
   "outputs": [],
   "source": [
    "import os,sys\n",
    "import pandas as pd\n",
    "import numpy as np\n",
    "import datetime\n",
    "import pandas_datareader.data as web\n",
    "import math\n",
    "import matplotlib.pyplot as plt\n",
    "from matplotlib import style\n",
    "from sklearn.model_selection import cross_val_score\n",
    "from sklearn import preprocessing, model_selection, svm\n",
    "from sklearn.linear_model import LinearRegression\n",
    "start = datetime.datetime(2019, 2, 11)\n",
    "end = datetime.datetime(2019, 11, 6)\n",
    "#从互联网获取数据\n",
    "#df = web.DataReader(\"XOM\", \"yahoo\", start, end)\n",
    "df = web.DataReader(\"600519.SS\", \"yahoo\", start, end)\n",
    "#print(df.head())\n",
    "df = df[['Open','High','Low','Close','Volume']]\n",
    "df['HL_PCT'] = (df['High'] - df['Low']) / df['Close'] * 100.0\n",
    "df['PCT_change'] = (df['Close'] - df['Open']) / df['Open'] * 100.0\n",
    "df = df[['Close', 'HL_PCT', 'PCT_change', 'Volume']]\n",
    "#print(df.head())\n",
    "print(len(df))\n",
    "forecast_col = 'Close'\n",
    "df.fillna(value=-99999, inplace=True)\n",
    "forecast_out = int(math.ceil(0.01 * len(df)))\n",
    "#预测forecast_out天后的\n",
    "print(forecast_out)\n",
    "#sys.exit(1)\n",
    "\n",
    "df['label'] = df[forecast_col].shift(-forecast_out)\n",
    "\n",
    "print(df.shape)\n",
    "print(df.tail())\n",
    "X = np.array(df.drop(['label'], 1))\n",
    "\n",
    "\n",
    "X = preprocessing.scale(X)\n",
    "\n",
    "X_lately = X[-forecast_out:]\n",
    "X = X[:-forecast_out]\n",
    "df.dropna(inplace=True)\n",
    "print(X)\n",
    "print(X_lately)\n",
    "y = np.array(df['label'])\n",
    "#print(y)\n",
    "print(X.shape)\n",
    "print(y.shape)\n",
    "X_train, X_test, y_train ,y_test = model_selection.train_test_split(X,y,test_size=0.2)\n",
    "\n",
    "clf = LinearRegression()\n",
    "clf.fit(X_train,y_train)\n",
    "accuracy = clf.score(X_test,y_test)\n",
    "\n",
    "print(accuracy)\n",
    "\n",
    "forecast_set = clf.predict(X_lately)\n",
    "\n",
    "print(forecast_set,accuracy,forecast_out)\n",
    "\n",
    "style.use('ggplot')\n",
    "\n",
    "df['Forecast']=np.nan\n",
    "\n",
    "last_date = df.iloc[-1].name\n",
    "last_unix = last_date.timestamp()\n",
    "print(last_date,last_unix)\n",
    "one_day = 86400\n",
    "next_unix = last_unix + one_day\n",
    "\n",
    "for i in forecast_set:\n",
    "    next_date = datetime.datetime.fromtimestamp(next_unix)\n",
    "    next_unix += 86400\n",
    "    df.loc[next_date] = [np.nan for _ in range(len(df.columns)-1)]+[i]\n",
    "\n",
    "\n",
    "print(df.tail())\n",
    "\n",
    "df['Close'].plot()\n",
    "df['Forecast'].plot()\n",
    "plt.show()\n",
    "\n",
    "\"\"\"\n",
    "svm\n",
    "for k in ['linear','poly','rbf','sigmoid']:\n",
    "    clf2 = svm.SVR(k)\n",
    "    clf2.fit(X_train,y_train)\n",
    "    accuracy2 = clf2.score(X_test,y_test)    \n",
    "    print(accuracy2)\n",
    "\"\"\"\n",
    "\"\"\"\n",
    "clf3 = svm.SVC(kernel='linear',C=1)\n",
    "scores = cross_val_score(clf3,X,y,cv=5,scoring='f1_macro')\n",
    "print(scores)\n",
    "\"\"\"\n"
   ]
  },
  {
   "cell_type": "code",
   "execution_count": null,
   "metadata": {},
   "outputs": [],
   "source": []
  }
 ],
 "metadata": {
  "kernelspec": {
   "display_name": "Python 3",
   "language": "python",
   "name": "python3"
  },
  "language_info": {
   "codemirror_mode": {
    "name": "ipython",
    "version": 3
   },
   "file_extension": ".py",
   "mimetype": "text/x-python",
   "name": "python",
   "nbconvert_exporter": "python",
   "pygments_lexer": "ipython3",
   "version": "3.7.4"
  }
 },
 "nbformat": 4,
 "nbformat_minor": 2
}
